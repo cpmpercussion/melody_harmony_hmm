{
 "cells": [
  {
   "cell_type": "markdown",
   "metadata": {},
   "source": [
    "# Musical Viterbi Test"
   ]
  },
  {
   "cell_type": "code",
   "execution_count": 6,
   "metadata": {},
   "outputs": [],
   "source": [
    "# Model:\n",
    "states = (\"C\", \"Dmin\", \"F\", \"G\", \"Amin\") # possible states\n",
    "\n",
    "start_probability = {\"C\": 0.5, \"Dmin\": 0.3, \"F\": 0.1, \"G\": 0.05, \"Amin\": 0.05} # pi\n",
    "\n",
    "transition_probability = { # State to State transition matrix: A\n",
    "    \"C\" : {'C': 0.1, 'Dmin': 0.1, 'F': 0.3, 'G': 0.1, 'Amin': 0.4}, \n",
    "    \"Dmin\" : {'C': 0.1, 'Dmin': 0.1, 'F': 0.2, 'G': 0.5, 'Amin': 0.1},  \n",
    "    \"F\" : {'C': 0.2, 'Dmin': 0.2, 'F': 0.2, 'G': 0.2, 'Amin': 0.2},   \n",
    "    \"G\" : {'C': 0.5, 'Dmin': 0.05, 'F': 0.1, 'G': 0.3, 'Amin': 0.05}, \n",
    "    \"Amin\" : {'C': 0.3, 'Dmin': 0.3, 'F': 0.3, 'G': 0.05, 'Amin': 0.05}, \n",
    "}\n",
    "\n",
    "emission_probability = { # State to Observation matrix: B\n",
    "    \"C\" : {'C': 0.3, 'D': 0.05, 'E': 0.3, 'G': 0.3, 'A': 0.05}, \n",
    "    \"Dmin\" : {'C': 0.1, 'D': 0.3, 'E': 0.1, 'G': 0.2, 'A': 0.3}, \n",
    "    \"F\" : {'C': 0.2, 'D': 0.05, 'E': 0.3, 'G': 0.05, 'A': 0.4},  \n",
    "    \"G\" : {'C': 0.1, 'D': 0.3, 'E': 0.1, 'G': 0.4, 'A': 0.1}, \n",
    "    \"Amin\" : {'C': 0.3, 'D': 0.05, 'E': 0.3, 'G': 0.05, 'A': 0.3}, \n",
    "}"
   ]
  },
  {
   "cell_type": "code",
   "execution_count": 7,
   "metadata": {},
   "outputs": [],
   "source": [
    "# The viterbi algorithm: (thanks wikipedia)\n",
    "\n",
    "def viterbi(obs, states, start_p, trans_p, emit_p):\n",
    "    V = [{}]\n",
    "    for st in states:\n",
    "        V[0][st] = {\"prob\": start_p[st] * emit_p[st][obs[0]], \"prev\": None}\n",
    "    # Run Viterbi when t > 0\n",
    "    for t in range(1, len(obs)):\n",
    "        V.append({})\n",
    "        for st in states:\n",
    "            max_tr_prob = max(V[t-1][prev_st][\"prob\"]*trans_p[prev_st][st] for prev_st in states)\n",
    "            for prev_st in states:\n",
    "                if V[t-1][prev_st][\"prob\"] * trans_p[prev_st][st] == max_tr_prob:\n",
    "                    max_prob = max_tr_prob * emit_p[st][obs[t]]\n",
    "                    V[t][st] = {\"prob\": max_prob, \"prev\": prev_st}\n",
    "                    break\n",
    "    # for line in dptable(V):\n",
    "    #     print(line)\n",
    "    opt = []\n",
    "    # The highest probability\n",
    "    max_prob = max(value[\"prob\"] for value in V[-1].values())\n",
    "    previous = None\n",
    "    # Get most probable state and its backtrack\n",
    "    for st, data in V[-1].items():\n",
    "        if data[\"prob\"] == max_prob:\n",
    "            opt.append(st)\n",
    "            previous = st\n",
    "            break\n",
    "    # Follow the backtrack till the first observation\n",
    "    for t in range(len(V) - 2, -1, -1):\n",
    "        opt.insert(0, V[t + 1][previous][\"prev\"])\n",
    "        previous = V[t + 1][previous][\"prev\"]\n",
    "    # Return the list of states\n",
    "    return(opt)\n",
    "\n",
    "# def dptable(V):\n",
    "#     # Print a table of steps from dictionary\n",
    "#     yield \" \".join((\"%12d\" % i) for i in range(len(V)))\n",
    "#     for state in V[0]:\n",
    "#         yield \"%.7s: \" % state + \" \".join(\"%.7s\" % (\"%f\" % v[state][\"prob\"]) for v in V)"
   ]
  },
  {
   "cell_type": "code",
   "execution_count": 8,
   "metadata": {},
   "outputs": [
    {
     "data": {
      "text/plain": [
       "['C', 'F', 'G', 'C', 'Amin', 'Dmin', 'G']"
      ]
     },
     "execution_count": 8,
     "metadata": {},
     "output_type": "execute_result"
    }
   ],
   "source": [
    "obs = ['C', 'C', 'G', 'G', 'A', 'A', 'G']\n",
    "\n",
    "viterbi(obs, states, start_probability, transition_probability, emission_probability)"
   ]
  }
 ],
 "metadata": {
  "kernelspec": {
   "display_name": "Python 3",
   "language": "python",
   "name": "python3"
  },
  "language_info": {
   "codemirror_mode": {
    "name": "ipython",
    "version": 3
   },
   "file_extension": ".py",
   "mimetype": "text/x-python",
   "name": "python",
   "nbconvert_exporter": "python",
   "pygments_lexer": "ipython3",
   "version": "3.6.2"
  }
 },
 "nbformat": 4,
 "nbformat_minor": 2
}
