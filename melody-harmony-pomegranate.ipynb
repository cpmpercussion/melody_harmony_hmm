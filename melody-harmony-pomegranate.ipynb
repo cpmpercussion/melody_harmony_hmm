{
 "cells": [
  {
   "cell_type": "markdown",
   "metadata": {},
   "source": [
    "# Musical HMM Test in Pomegranate"
   ]
  },
  {
   "cell_type": "code",
   "execution_count": 1,
   "metadata": {},
   "outputs": [],
   "source": [
    "import numpy as np\n",
    "from pomegranate import *\n",
    "\n",
    "# Model:\n",
    "\n",
    "state_names = [\"C\", \"Dmin\", \"F\", \"G\", \"Amin\"] # possible states\n",
    "observation_states = ('C', 'D', 'E', 'G', 'A')\n",
    "start_probability = [0.5, 0.3, 0.1, 0.05, 0.05] # pi\n",
    "\n",
    "\n",
    "transition_probability = np.array([ # State to State transition matrix: A\n",
    "    [0.1, 0.1, 0.3, 0.1, 0.4], \n",
    "    [0.1, 0.1, 0.2, 0.5, 0.1],  \n",
    "    [0.2, 0.2, 0.2, 0.2, 0.2],\n",
    "    [0.5, 0.05, 0.1, 0.3, 0.05], \n",
    "    [0.3, 0.3, 0.3, 0.05, 0.05]])\n",
    "\n",
    "emission_probability = [ # State to Observation matrix: B\n",
    "    DiscreteDistribution({'C': 0.3, 'D': 0.05, 'E': 0.3, 'G': 0.3, 'A': 0.05}), \n",
    "    DiscreteDistribution({'C': 0.1, 'D': 0.3, 'E': 0.1, 'G': 0.2, 'A': 0.3}), \n",
    "    DiscreteDistribution({'C': 0.2, 'D': 0.05, 'E': 0.3, 'G': 0.05, 'A': 0.4}),  \n",
    "    DiscreteDistribution({'C': 0.1, 'D': 0.3, 'E': 0.1, 'G': 0.4, 'A': 0.1}), \n",
    "    DiscreteDistribution({'C': 0.3, 'D': 0.05, 'E': 0.3, 'G': 0.05, 'A': 0.3}) \n",
    "]"
   ]
  },
  {
   "cell_type": "code",
   "execution_count": 2,
   "metadata": {},
   "outputs": [],
   "source": [
    "# The viterbi algorithm: (thanks wikipedia)\n",
    "model = HiddenMarkovModel.from_matrix(\n",
    "    transition_probability, \n",
    "    emission_probability, \n",
    "    start_probability, \n",
    "    state_names=state_names, \n",
    "    name=\"HarmonyMelody\")"
   ]
  },
  {
   "cell_type": "code",
   "execution_count": 3,
   "metadata": {},
   "outputs": [
    {
     "data": {
      "text/plain": [
       "['C', 'F', 'G', 'C', 'Amin', 'Dmin', 'G']"
      ]
     },
     "execution_count": 3,
     "metadata": {},
     "output_type": "execute_result"
    }
   ],
   "source": [
    "obs = ['C', 'C', 'G', 'G', 'A', 'A', 'G']\n",
    "# ['C', 'F', 'G', 'C', 'Amin', 'Dmin', 'G']\n",
    "output = model.viterbi(obs)\n",
    "\n",
    "# Here's the sequence of output symbols: same as before.\n",
    "[x[1].name for x in output[1][1:]]"
   ]
  }
 ],
 "metadata": {
  "kernelspec": {
   "display_name": "Python 3",
   "language": "python",
   "name": "python3"
  },
  "language_info": {
   "codemirror_mode": {
    "name": "ipython",
    "version": 3
   },
   "file_extension": ".py",
   "mimetype": "text/x-python",
   "name": "python",
   "nbconvert_exporter": "python",
   "pygments_lexer": "ipython3",
   "version": "3.6.2"
  }
 },
 "nbformat": 4,
 "nbformat_minor": 2
}
