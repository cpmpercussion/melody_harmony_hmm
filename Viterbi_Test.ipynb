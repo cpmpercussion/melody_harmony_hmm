{
 "cells": [
  {
   "cell_type": "markdown",
   "metadata": {},
   "source": [
    "# Simple HMM Prediction using Viterbi Algorithm\n"
   ]
  },
  {
   "cell_type": "code",
   "execution_count": 1,
   "metadata": {},
   "outputs": [],
   "source": [
    "# From wikipedia\n",
    "# https://en.wikipedia.org/wiki/Viterbi_algorithm\n",
    "\n",
    "# Model:\n",
    "\n",
    "states = ('Rainy', 'Sunny') # possible states\n",
    "\n",
    "start_probability = {'Rainy': 0.6, 'Sunny': 0.4} # pi\n",
    "\n",
    "transition_probability = { # State to State transition matrix: A\n",
    "   'Rainy' : {'Rainy': 0.3, 'Sunny': 0.7},\n",
    "   'Sunny' : {'Rainy': 0.4, 'Sunny': 0.6},\n",
    "}\n",
    "\n",
    "emission_probability = { # State to Observation matrix: B\n",
    "   'Rainy' : {'walk': 0.1, 'shop': 0.4, 'clean': 0.5},\n",
    "   'Sunny' : {'walk': 0.6, 'shop': 0.3, 'clean': 0.1},\n",
    "}"
   ]
  },
  {
   "cell_type": "markdown",
   "metadata": {},
   "source": [
    "## Viterbi Algorithm\n",
    "\n",
    "This gives the most likely sequence of hidden states for a given sequence of observations."
   ]
  },
  {
   "cell_type": "code",
   "execution_count": 3,
   "metadata": {},
   "outputs": [],
   "source": [
    "# The viterbi algorithm: (thanks wikipedia)\n",
    "\n",
    "def viterbi(obs, states, start_p, trans_p, emit_p):\n",
    "    V = [{}]\n",
    "    for st in states:\n",
    "        V[0][st] = {\"prob\": start_p[st] * emit_p[st][obs[0]], \"prev\": None}\n",
    "    # Run Viterbi when t > 0\n",
    "    for t in range(1, len(obs)):\n",
    "        V.append({})\n",
    "        for st in states:\n",
    "            max_tr_prob = max(V[t-1][prev_st][\"prob\"]*trans_p[prev_st][st] for prev_st in states)\n",
    "            for prev_st in states:\n",
    "                if V[t-1][prev_st][\"prob\"] * trans_p[prev_st][st] == max_tr_prob:\n",
    "                    max_prob = max_tr_prob * emit_p[st][obs[t]]\n",
    "                    V[t][st] = {\"prob\": max_prob, \"prev\": prev_st}\n",
    "                    break\n",
    "\n",
    "    for line in dptable(V):\n",
    "        print(line)\n",
    "    opt = []\n",
    "    # The highest probability\n",
    "    max_prob = max(value[\"prob\"] for value in V[-1].values())\n",
    "    previous = None\n",
    "    # Get most probable state and its backtrack\n",
    "    for st, data in V[-1].items():\n",
    "        if data[\"prob\"] == max_prob:\n",
    "            opt.append(st)\n",
    "            previous = st\n",
    "            break\n",
    "    # Follow the backtrack till the first observation\n",
    "    for t in range(len(V) - 2, -1, -1):\n",
    "        opt.insert(0, V[t + 1][previous][\"prev\"])\n",
    "        previous = V[t + 1][previous][\"prev\"]\n",
    "    # Return the list of states\n",
    "    return(opt)\n",
    "\n",
    "def dptable(V):\n",
    "    # Print a table of steps from dictionary\n",
    "    yield \" \".join((\"%12d\" % i) for i in range(len(V)))\n",
    "    for state in V[0]:\n",
    "        yield \"%.7s: \" % state + \" \".join(\"%.7s\" % (\"%f\" % v[state][\"prob\"]) for v in V)"
   ]
  },
  {
   "cell_type": "markdown",
   "metadata": {},
   "source": [
    "## Prediction Time!\n",
    "\n",
    "Let's try it out."
   ]
  },
  {
   "cell_type": "code",
   "execution_count": 4,
   "metadata": {
    "scrolled": true
   },
   "outputs": [
    {
     "name": "stdout",
     "output_type": "stream",
     "text": [
      "           0            1            2\n",
      "Rainy: 0.06000 0.03840 0.00864\n",
      "Sunny: 0.24000 0.04320 0.00268\n"
     ]
    },
    {
     "data": {
      "text/plain": [
       "['Sunny', 'Sunny', 'Rainy']"
      ]
     },
     "execution_count": 4,
     "metadata": {},
     "output_type": "execute_result"
    }
   ],
   "source": [
    "observations = ('walk', 'shop', 'clean')\n",
    "viterbi(observations, states, start_probability, transition_probability, emission_probability)"
   ]
  },
  {
   "cell_type": "code",
   "execution_count": 5,
   "metadata": {
    "scrolled": true
   },
   "outputs": [
    {
     "data": {
      "text/plain": [
       "['Sunny', 'Sunny', 'Rainy', 'Sunny', 'Rainy', 'Rainy', 'Rainy']"
      ]
     },
     "execution_count": 5,
     "metadata": {},
     "output_type": "execute_result"
    }
   ],
   "source": [
    "P(rainy | prev_max) * P(shop | rainy) * max of prev step\n",
    "0.4 * 0.4 * 0.24\n",
    "\n",
    "P(chord | prev_max_chord) * P(note | chord) * max_prev_step\n",
    "\n",
    "\n",
    "Fmaj = {C: 0.1, Csharp: 0.05, } # average pitch histogram \n",
    "\n",
    "# average pitch vector --> P(note | chord) (by maximum likelihood method -  sum of observations / total observations )\n",
    "\n",
    "\n",
    "# Question can we calculate P(note | chord) when we have the chord, and a bar of notes\n",
    "\n",
    "bar_occurence dot learned_histogram_of_chord)\n",
    "\n",
    "0.2 C, 0.8 Csharps\n",
    "\n",
    "P(Fmaj, bar) = 0.2 *0.1 + 0.8*0.05\n",
    "\n",
    "observations = ('walk', 'shop', 'shop', 'shop', 'clean','clean','clean')\n",
    "viterbi(observations, states, start_probability, transition_probability, emission_probability)"
   ]
  }
 ],
 "metadata": {
  "kernelspec": {
   "display_name": "Python 3",
   "language": "python",
   "name": "python3"
  },
  "language_info": {
   "codemirror_mode": {
    "name": "ipython",
    "version": 3
   },
   "file_extension": ".py",
   "mimetype": "text/x-python",
   "name": "python",
   "nbconvert_exporter": "python",
   "pygments_lexer": "ipython3",
   "version": "3.6.2"
  }
 },
 "nbformat": 4,
 "nbformat_minor": 2
}
