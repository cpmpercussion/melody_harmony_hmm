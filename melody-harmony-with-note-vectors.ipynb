{
 "cells": [
  {
   "cell_type": "markdown",
   "metadata": {},
   "source": [
    "# Musical Viterbi Test\n",
    "\n",
    "Define a baby HMM melody-harmony model. The hidden states are five diatonic chords in C major, the observation states are the C major pentatonic scale.\n",
    "\n",
    "The complication with this model is that the viterbi algorithm accepts a vector of observation states (this could record the relative importances of the notes in a bar).\n",
    "\n",
    "The viterbi algorithm uses the `emission_dist_prob` function to measure the probability of an observation being emitted by a given state. This function simply takes the dot product of the emission distribution and the observation vector.\n",
    "\n",
    "Short answer: It works!\n",
    "\n",
    "\n",
    "### Set up model\n",
    "\n",
    "- Model needs start probabilities (pi), transition matrix (A), and emission distributions (B).\n",
    "- Emission probs have type `np.array`. Other quantities should really be `np.array`s too?\n",
    "- state names and observation state names are not used, but could be useful if the transition matrix was a `np.array` and not a `dict`."
   ]
  },
  {
   "cell_type": "code",
   "execution_count": 1,
   "metadata": {},
   "outputs": [],
   "source": [
    "import numpy as np\n",
    "\n",
    "# Model:\n",
    "states = (\"C\", \"Dmin\", \"F\", \"G\", \"Amin\") # possible states\n",
    "obs_states = ('C', 'D', 'E', 'G', 'A')\n",
    "\n",
    "\n",
    "start_probability = {\"C\": 0.5, \"Dmin\": 0.3, \"F\": 0.1, \"G\": 0.05, \"Amin\": 0.05} # pi\n",
    "\n",
    "transition_probability = { # State to State transition matrix: A\n",
    "    \"C\" : {'C': 0.1, 'Dmin': 0.1, 'F': 0.3, 'G': 0.1, 'Amin': 0.4}, \n",
    "    \"Dmin\" : {'C': 0.1, 'Dmin': 0.1, 'F': 0.2, 'G': 0.5, 'Amin': 0.1},  \n",
    "    \"F\" : {'C': 0.2, 'Dmin': 0.2, 'F': 0.2, 'G': 0.2, 'Amin': 0.2},   \n",
    "    \"G\" : {'C': 0.5, 'Dmin': 0.05, 'F': 0.1, 'G': 0.3, 'Amin': 0.05}, \n",
    "    \"Amin\" : {'C': 0.3, 'Dmin': 0.3, 'F': 0.3, 'G': 0.05, 'Amin': 0.05}, \n",
    "}\n",
    "\n",
    "# Use np.arrays for emission probs.\n",
    "\n",
    "emission_probability = { # State to Observation matrix: B\n",
    "    \"C\" : np.array([0.3, 0.05, 0.3, 0.3, 0.05]), \n",
    "    \"Dmin\" : np.array([0.1, 0.3, 0.1, 0.2, 0.3]), \n",
    "    \"F\" : np.array([0.2, 0.05, 0.3, 0.05, 0.4]),  \n",
    "    \"G\" : np.array([0.1, 0.3, 0.1, 0.4, 0.1]), \n",
    "    \"Amin\" : np.array([0.3, 0.05, 0.3, 0.05, 0.3]), \n",
    "}"
   ]
  },
  {
   "cell_type": "markdown",
   "metadata": {},
   "source": [
    "### Viterbi Algorithm\n",
    "\n",
    "- Got this working with only minor adjustments. \n",
    "- Code is somewhat labelled now.\n",
    "- Thanks Henrik for guiding me towards understanding! :-)\n",
    "- Not quite happy with this implementation. For instance, why not store the max_prob element at each step during the forward pass? It then has to backtrack from the end of V to find (again) all the `max_probs`."
   ]
  },
  {
   "cell_type": "code",
   "execution_count": 2,
   "metadata": {},
   "outputs": [],
   "source": [
    "# The viterbi algorithm: (thanks wikipedia)\n",
    "\n",
    "def emission_dist_prob(emission_distribution, observation):\n",
    "    # Probability measure of observation dist in emission_distritbution\n",
    "    return np.dot(emission_distribution, observation)\n",
    "\n",
    "def viterbi(obs, states, start_p, trans_p, emit_p):\n",
    "    V = [{}] # Probability Table Prepared\n",
    "    \n",
    "    # Generate Probs for 0th hidden state.\n",
    "    for st in states:\n",
    "        V[0][st] = {\"prob\": start_p[st] * emission_dist_prob(emit_p[st],obs[0]), \"prev\": None}\n",
    "        \n",
    "    # Generate Probs for 1st-nth hidden states \n",
    "    for t in range(1, len(obs)):\n",
    "        V.append({})\n",
    "        for st in states:\n",
    "            max_tr_prob = max(V[t-1][prev_st][\"prob\"] * trans_p[prev_st][st] for prev_st in states)\n",
    "            for prev_st in states:\n",
    "                if V[t-1][prev_st][\"prob\"] * trans_p[prev_st][st] == max_tr_prob:\n",
    "                    max_prob = max_tr_prob * emission_dist_prob(emit_p[st],obs[t]) # mult by emission prob.\n",
    "                    V[t][st] = {\"prob\": max_prob, \"prev\": prev_st}\n",
    "                    break\n",
    "    \n",
    "    # Prepare to identify best hidden state sequence from V\n",
    "    output = []\n",
    "    # The highest probability\n",
    "    max_prob = max(value[\"prob\"] for value in V[-1].values())\n",
    "    previous = None\n",
    "    \n",
    "    # Get most probable final state from the end of V\n",
    "    for st, data in V[-1].items():\n",
    "        if data[\"prob\"] == max_prob:\n",
    "            output.append(st)\n",
    "            previous = st\n",
    "            break\n",
    "            \n",
    "    # Get the most probable state in each previous step of the list.\n",
    "    for t in range(len(V) - 2, -1, -1):\n",
    "        output.insert(0, V[t + 1][previous][\"prev\"]) # put the 'prev' state at index 0 in output\n",
    "        previous = V[t + 1][previous][\"prev\"] # store previous 'prev' state.\n",
    "    \n",
    "    # Return the list of states\n",
    "    return(output, max_prob, V)"
   ]
  },
  {
   "cell_type": "markdown",
   "metadata": {},
   "source": [
    "### Predict Chords for a simple melody\n",
    "\n",
    "Use the Viterbi algorithm to predict chords for a melody with one note in each bar."
   ]
  },
  {
   "cell_type": "code",
   "execution_count": 3,
   "metadata": {},
   "outputs": [
    {
     "name": "stdout",
     "output_type": "stream",
     "text": [
      "Predicted path: ['C', 'F', 'G', 'C', 'Amin', 'Dmin', 'G']\n",
      "Likelihood: 2.3328e-07\n"
     ]
    }
   ],
   "source": [
    "# some note vectors equivalent to ['C', 'C', 'G', 'G', 'A', 'A', 'G']\n",
    "observations = [   \n",
    "    np.array([1., 0., 0., 0., 0.]),\n",
    "    np.array([1., 0., 0., 0., 0.]),\n",
    "    np.array([0., 0., 0., 1., 0.]),\n",
    "    np.array([0., 0., 0., 1., 0.]),\n",
    "    np.array([0., 0., 0., 0., 1.]),\n",
    "    np.array([0., 0., 0., 0., 1.]),\n",
    "    np.array([0., 0., 0., 1., 0.]),\n",
    "]\n",
    "\n",
    "pred, prob, V = viterbi(observations, states, start_probability, transition_probability, emission_probability)\n",
    "\n",
    "print(\"Predicted path:\", pred)\n",
    "print(\"Likelihood:\", prob)"
   ]
  }
 ],
 "metadata": {
  "kernelspec": {
   "display_name": "Python 3",
   "language": "python",
   "name": "python3"
  },
  "language_info": {
   "codemirror_mode": {
    "name": "ipython",
    "version": 3
   },
   "file_extension": ".py",
   "mimetype": "text/x-python",
   "name": "python",
   "nbconvert_exporter": "python",
   "pygments_lexer": "ipython3",
   "version": "3.6.3"
  }
 },
 "nbformat": 4,
 "nbformat_minor": 2
}
